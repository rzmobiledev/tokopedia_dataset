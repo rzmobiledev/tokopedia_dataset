{
 "cells": [
  {
   "cell_type": "code",
   "execution_count": 1,
   "id": "a119d76c",
   "metadata": {},
   "outputs": [],
   "source": [
    "from selenium import webdriver\n",
    "from selenium.webdriver.common.keys import Keys\n",
    "from selenium.webdriver.common.by import By\n",
    "from selenium.webdriver.chrome.service import Service\n",
    "import time\n",
    "import pandas as pd"
   ]
  },
  {
   "cell_type": "code",
   "execution_count": 2,
   "id": "a2513186",
   "metadata": {
    "scrolled": true
   },
   "outputs": [],
   "source": [
    "page = 1\n",
    "product_lists = []\n",
    "\n",
    "\n",
    "while page in range(60):\n",
    "    service = Service(r'C:\\Program Files\\Google\\Chrome\\Application\\chromedriver.exe')\n",
    "    driver = webdriver.Chrome(service=service)\n",
    "    url = f'https://www.tokopedia.com/p/audio-kamera-elektronik-lainnya/audio/earphone?page={str(page)}'\n",
    "    driver.get(url)\n",
    "\n",
    "    time.sleep(2)\n",
    "    html = driver.find_element(By.TAG_NAME, value='html')\n",
    "    html.send_keys(Keys.END)\n",
    "    time.sleep(2)\n",
    "    html.send_keys(Keys.END)\n",
    "    time.sleep(2)\n",
    "    products = driver.find_elements(By.CSS_SELECTOR, value='div.e1nlzfl2')\n",
    "    \n",
    "    try:\n",
    "        for i in range(len(products)):\n",
    "            link = products[i].find_element(By.TAG_NAME, value='a').get_attribute('href')\n",
    "            title = products[i].find_element(By.CSS_SELECTOR, value='div.css-11s9vse span.css-20kt3o').text\n",
    "            price = products[i].find_element(By.CSS_SELECTOR, value='div.css-11s9vse span.css-o5uqvq').text\n",
    "            loc_and_provider = products[i].find_elements(By.CSS_SELECTOR, value='div.css-vbihp9 span')\n",
    "            location = loc_and_provider[0].text\n",
    "            provider = loc_and_provider[1].text\n",
    "            discount_exists = products[i].find_elements(By.CSS_SELECTOR, value='div.css-11s9vse div.css-1nl8cnn')\n",
    "            discount = ''\n",
    "            total_review = ''\n",
    "            if discount_exists:\n",
    "                discount = discount_exists[0].text\n",
    "            is_review_exist = products[i].find_elements(By.CSS_SELECTOR, value='div.css-1riykrk span')\n",
    "            if is_review_exist:\n",
    "                total_review = is_review_exist[0].text\n",
    "\n",
    "            product_lists.append({\n",
    "                'title': title,\n",
    "                'price': price,\n",
    "                'location': location,\n",
    "                'provider': provider,\n",
    "                'price': price,\n",
    "                'discount': discount,\n",
    "                'total_review': total_review,\n",
    "                'url': link\n",
    "            })\n",
    "            \n",
    "\n",
    "    except Exception as e:\n",
    "        print(e)\n",
    "        driver.close()\n",
    "        \n",
    "    page += 1\n",
    "    driver.close()"
   ]
  },
  {
   "cell_type": "code",
   "execution_count": 4,
   "id": "fc29d727",
   "metadata": {},
   "outputs": [],
   "source": [
    "df = pd.DataFrame(product_lists)\n",
    "df.to_csv('earphone_toped.csv')"
   ]
  },
  {
   "cell_type": "code",
   "execution_count": 56,
   "id": "41d87f13",
   "metadata": {},
   "outputs": [
    {
     "data": {
      "text/html": [
       "<div>\n",
       "<style scoped>\n",
       "    .dataframe tbody tr th:only-of-type {\n",
       "        vertical-align: middle;\n",
       "    }\n",
       "\n",
       "    .dataframe tbody tr th {\n",
       "        vertical-align: top;\n",
       "    }\n",
       "\n",
       "    .dataframe thead th {\n",
       "        text-align: right;\n",
       "    }\n",
       "</style>\n",
       "<table border=\"1\" class=\"dataframe\">\n",
       "  <thead>\n",
       "    <tr style=\"text-align: right;\">\n",
       "      <th></th>\n",
       "      <th>price</th>\n",
       "    </tr>\n",
       "  </thead>\n",
       "  <tbody>\n",
       "    <tr>\n",
       "      <th>0</th>\n",
       "      <td>38,900.00</td>\n",
       "    </tr>\n",
       "    <tr>\n",
       "      <th>1</th>\n",
       "      <td>351,120.00</td>\n",
       "    </tr>\n",
       "  </tbody>\n",
       "</table>\n",
       "</div>"
      ],
      "text/plain": [
       "        price\n",
       "0   38,900.00\n",
       "1  351,120.00"
      ]
     },
     "execution_count": 56,
     "metadata": {},
     "output_type": "execute_result"
    }
   ],
   "source": [
    "df['price'] = df.price.apply(lambda x: '{:,.2f}'.format(x))\n",
    "df[['price']].head(2)"
   ]
  },
  {
   "cell_type": "code",
   "execution_count": null,
   "id": "63875fa2",
   "metadata": {},
   "outputs": [],
   "source": []
  }
 ],
 "metadata": {
  "kernelspec": {
   "display_name": "Python 3 (ipykernel)",
   "language": "python",
   "name": "python3"
  },
  "language_info": {
   "codemirror_mode": {
    "name": "ipython",
    "version": 3
   },
   "file_extension": ".py",
   "mimetype": "text/x-python",
   "name": "python",
   "nbconvert_exporter": "python",
   "pygments_lexer": "ipython3",
   "version": "3.12.5"
  }
 },
 "nbformat": 4,
 "nbformat_minor": 5
}
