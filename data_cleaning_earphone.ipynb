{
 "cells": [
  {
   "cell_type": "markdown",
   "id": "a5b37a40",
   "metadata": {},
   "source": [
    "# Data Cleaning Earphone Product"
   ]
  },
  {
   "cell_type": "code",
   "execution_count": 167,
   "id": "a5c10d26",
   "metadata": {},
   "outputs": [],
   "source": [
    "import pandas as pd\n",
    "import numpy as np\n",
    "import matplotlib.pyplot as plt\n",
    "import seaborn as sb"
   ]
  },
  {
   "cell_type": "code",
   "execution_count": 2,
   "id": "2162fc53",
   "metadata": {},
   "outputs": [
    {
     "data": {
      "text/html": [
       "<div>\n",
       "<style scoped>\n",
       "    .dataframe tbody tr th:only-of-type {\n",
       "        vertical-align: middle;\n",
       "    }\n",
       "\n",
       "    .dataframe tbody tr th {\n",
       "        vertical-align: top;\n",
       "    }\n",
       "\n",
       "    .dataframe thead th {\n",
       "        text-align: right;\n",
       "    }\n",
       "</style>\n",
       "<table border=\"1\" class=\"dataframe\">\n",
       "  <thead>\n",
       "    <tr style=\"text-align: right;\">\n",
       "      <th></th>\n",
       "      <th>Unnamed: 0</th>\n",
       "      <th>title</th>\n",
       "      <th>price</th>\n",
       "      <th>location</th>\n",
       "      <th>provider</th>\n",
       "      <th>discount</th>\n",
       "      <th>total_review</th>\n",
       "      <th>url</th>\n",
       "    </tr>\n",
       "  </thead>\n",
       "  <tbody>\n",
       "    <tr>\n",
       "      <th>0</th>\n",
       "      <td>0</td>\n",
       "      <td>UGREEN 40816 TEMPAT EARPHONE STORAGE CASE CHAR...</td>\n",
       "      <td>Rp38.900</td>\n",
       "      <td>Jakarta Utara</td>\n",
       "      <td>NaN</td>\n",
       "      <td>NaN</td>\n",
       "      <td>(67)</td>\n",
       "      <td>https://ta.tokopedia.com/promo/v1/clicks/8a-xg...</td>\n",
       "    </tr>\n",
       "    <tr>\n",
       "      <th>1</th>\n",
       "      <td>1</td>\n",
       "      <td>Havit Openbuds 1 Open-Ear Clip Earphones Conne...</td>\n",
       "      <td>Rp351.120</td>\n",
       "      <td>Jakarta Barat</td>\n",
       "      <td>NaN</td>\n",
       "      <td>57%\\nRp999.000</td>\n",
       "      <td>(1)</td>\n",
       "      <td>https://ta.tokopedia.com/promo/v1/clicks/8a-xg...</td>\n",
       "    </tr>\n",
       "    <tr>\n",
       "      <th>2</th>\n",
       "      <td>2</td>\n",
       "      <td>Vention TWS Bluetooth Wireless Headset Earbuds...</td>\n",
       "      <td>Rp155.000</td>\n",
       "      <td>Jakarta Barat</td>\n",
       "      <td>NaN</td>\n",
       "      <td>NaN</td>\n",
       "      <td>(49)</td>\n",
       "      <td>https://ta.tokopedia.com/promo/v1/clicks/8a-xg...</td>\n",
       "    </tr>\n",
       "  </tbody>\n",
       "</table>\n",
       "</div>"
      ],
      "text/plain": [
       "   Unnamed: 0                                              title      price  \\\n",
       "0           0  UGREEN 40816 TEMPAT EARPHONE STORAGE CASE CHAR...   Rp38.900   \n",
       "1           1  Havit Openbuds 1 Open-Ear Clip Earphones Conne...  Rp351.120   \n",
       "2           2  Vention TWS Bluetooth Wireless Headset Earbuds...  Rp155.000   \n",
       "\n",
       "        location provider        discount total_review  \\\n",
       "0  Jakarta Utara      NaN             NaN         (67)   \n",
       "1  Jakarta Barat      NaN  57%\\nRp999.000          (1)   \n",
       "2  Jakarta Barat      NaN             NaN         (49)   \n",
       "\n",
       "                                                 url  \n",
       "0  https://ta.tokopedia.com/promo/v1/clicks/8a-xg...  \n",
       "1  https://ta.tokopedia.com/promo/v1/clicks/8a-xg...  \n",
       "2  https://ta.tokopedia.com/promo/v1/clicks/8a-xg...  "
      ]
     },
     "execution_count": 2,
     "metadata": {},
     "output_type": "execute_result"
    }
   ],
   "source": [
    "df = pd.read_csv(r'earphone_toped.csv')\n",
    "df.head(3)"
   ]
  },
  {
   "cell_type": "code",
   "execution_count": 7,
   "id": "c8dd11f4",
   "metadata": {},
   "outputs": [
    {
     "data": {
      "text/html": [
       "<div>\n",
       "<style scoped>\n",
       "    .dataframe tbody tr th:only-of-type {\n",
       "        vertical-align: middle;\n",
       "    }\n",
       "\n",
       "    .dataframe tbody tr th {\n",
       "        vertical-align: top;\n",
       "    }\n",
       "\n",
       "    .dataframe thead th {\n",
       "        text-align: right;\n",
       "    }\n",
       "</style>\n",
       "<table border=\"1\" class=\"dataframe\">\n",
       "  <thead>\n",
       "    <tr style=\"text-align: right;\">\n",
       "      <th></th>\n",
       "      <th>Unnamed: 0</th>\n",
       "      <th>title</th>\n",
       "      <th>price</th>\n",
       "      <th>location</th>\n",
       "      <th>provider</th>\n",
       "      <th>discount</th>\n",
       "      <th>total_review</th>\n",
       "      <th>url</th>\n",
       "    </tr>\n",
       "  </thead>\n",
       "  <tbody>\n",
       "    <tr>\n",
       "      <th>0</th>\n",
       "      <td>0</td>\n",
       "      <td>UGREEN 40816 TEMPAT EARPHONE STORAGE CASE CHAR...</td>\n",
       "      <td>Rp38.900</td>\n",
       "      <td>Jakarta Utara</td>\n",
       "      <td>NaN</td>\n",
       "      <td>NaN</td>\n",
       "      <td>(67)</td>\n",
       "      <td>https://ta.tokopedia.com/promo/v1/clicks/8a-xg...</td>\n",
       "    </tr>\n",
       "    <tr>\n",
       "      <th>1</th>\n",
       "      <td>1</td>\n",
       "      <td>Havit Openbuds 1 Open-Ear Clip Earphones Conne...</td>\n",
       "      <td>Rp351.120</td>\n",
       "      <td>Jakarta Barat</td>\n",
       "      <td>NaN</td>\n",
       "      <td>57</td>\n",
       "      <td>(1)</td>\n",
       "      <td>https://ta.tokopedia.com/promo/v1/clicks/8a-xg...</td>\n",
       "    </tr>\n",
       "    <tr>\n",
       "      <th>2</th>\n",
       "      <td>2</td>\n",
       "      <td>Vention TWS Bluetooth Wireless Headset Earbuds...</td>\n",
       "      <td>Rp155.000</td>\n",
       "      <td>Jakarta Barat</td>\n",
       "      <td>NaN</td>\n",
       "      <td>NaN</td>\n",
       "      <td>(49)</td>\n",
       "      <td>https://ta.tokopedia.com/promo/v1/clicks/8a-xg...</td>\n",
       "    </tr>\n",
       "  </tbody>\n",
       "</table>\n",
       "</div>"
      ],
      "text/plain": [
       "   Unnamed: 0                                              title      price  \\\n",
       "0           0  UGREEN 40816 TEMPAT EARPHONE STORAGE CASE CHAR...   Rp38.900   \n",
       "1           1  Havit Openbuds 1 Open-Ear Clip Earphones Conne...  Rp351.120   \n",
       "2           2  Vention TWS Bluetooth Wireless Headset Earbuds...  Rp155.000   \n",
       "\n",
       "        location provider discount total_review  \\\n",
       "0  Jakarta Utara      NaN      NaN         (67)   \n",
       "1  Jakarta Barat      NaN       57          (1)   \n",
       "2  Jakarta Barat      NaN      NaN         (49)   \n",
       "\n",
       "                                                 url  \n",
       "0  https://ta.tokopedia.com/promo/v1/clicks/8a-xg...  \n",
       "1  https://ta.tokopedia.com/promo/v1/clicks/8a-xg...  \n",
       "2  https://ta.tokopedia.com/promo/v1/clicks/8a-xg...  "
      ]
     },
     "execution_count": 7,
     "metadata": {},
     "output_type": "execute_result"
    }
   ],
   "source": [
    "# clean discount column\n",
    "df['discount'] = df.discount.str.split('%\\n',expand=True)[0]\n",
    "df.head(3)"
   ]
  },
  {
   "cell_type": "code",
   "execution_count": 10,
   "id": "83552f5f",
   "metadata": {},
   "outputs": [
    {
     "data": {
      "text/html": [
       "<div>\n",
       "<style scoped>\n",
       "    .dataframe tbody tr th:only-of-type {\n",
       "        vertical-align: middle;\n",
       "    }\n",
       "\n",
       "    .dataframe tbody tr th {\n",
       "        vertical-align: top;\n",
       "    }\n",
       "\n",
       "    .dataframe thead th {\n",
       "        text-align: right;\n",
       "    }\n",
       "</style>\n",
       "<table border=\"1\" class=\"dataframe\">\n",
       "  <thead>\n",
       "    <tr style=\"text-align: right;\">\n",
       "      <th></th>\n",
       "      <th>Unnamed: 0</th>\n",
       "      <th>title</th>\n",
       "      <th>price</th>\n",
       "      <th>location</th>\n",
       "      <th>provider</th>\n",
       "      <th>discount</th>\n",
       "      <th>total_review</th>\n",
       "      <th>url</th>\n",
       "    </tr>\n",
       "  </thead>\n",
       "  <tbody>\n",
       "    <tr>\n",
       "      <th>0</th>\n",
       "      <td>0</td>\n",
       "      <td>UGREEN 40816 TEMPAT EARPHONE STORAGE CASE CHAR...</td>\n",
       "      <td>Rp38.900</td>\n",
       "      <td>Jakarta Utara</td>\n",
       "      <td>NaN</td>\n",
       "      <td>NaN</td>\n",
       "      <td>67</td>\n",
       "      <td>https://ta.tokopedia.com/promo/v1/clicks/8a-xg...</td>\n",
       "    </tr>\n",
       "    <tr>\n",
       "      <th>1</th>\n",
       "      <td>1</td>\n",
       "      <td>Havit Openbuds 1 Open-Ear Clip Earphones Conne...</td>\n",
       "      <td>Rp351.120</td>\n",
       "      <td>Jakarta Barat</td>\n",
       "      <td>NaN</td>\n",
       "      <td>57</td>\n",
       "      <td>1</td>\n",
       "      <td>https://ta.tokopedia.com/promo/v1/clicks/8a-xg...</td>\n",
       "    </tr>\n",
       "  </tbody>\n",
       "</table>\n",
       "</div>"
      ],
      "text/plain": [
       "   Unnamed: 0                                              title      price  \\\n",
       "0           0  UGREEN 40816 TEMPAT EARPHONE STORAGE CASE CHAR...   Rp38.900   \n",
       "1           1  Havit Openbuds 1 Open-Ear Clip Earphones Conne...  Rp351.120   \n",
       "\n",
       "        location provider discount total_review  \\\n",
       "0  Jakarta Utara      NaN      NaN           67   \n",
       "1  Jakarta Barat      NaN       57            1   \n",
       "\n",
       "                                                 url  \n",
       "0  https://ta.tokopedia.com/promo/v1/clicks/8a-xg...  \n",
       "1  https://ta.tokopedia.com/promo/v1/clicks/8a-xg...  "
      ]
     },
     "execution_count": 10,
     "metadata": {},
     "output_type": "execute_result"
    }
   ],
   "source": [
    "# clean total_review column\n",
    "df['total_review'] = df.total_review.str.replace('[()]','',regex=True)\n",
    "df.head(2)"
   ]
  },
  {
   "cell_type": "code",
   "execution_count": 19,
   "id": "0b29a3ca",
   "metadata": {},
   "outputs": [
    {
     "data": {
      "text/html": [
       "<div>\n",
       "<style scoped>\n",
       "    .dataframe tbody tr th:only-of-type {\n",
       "        vertical-align: middle;\n",
       "    }\n",
       "\n",
       "    .dataframe tbody tr th {\n",
       "        vertical-align: top;\n",
       "    }\n",
       "\n",
       "    .dataframe thead th {\n",
       "        text-align: right;\n",
       "    }\n",
       "</style>\n",
       "<table border=\"1\" class=\"dataframe\">\n",
       "  <thead>\n",
       "    <tr style=\"text-align: right;\">\n",
       "      <th></th>\n",
       "      <th>Unnamed: 0</th>\n",
       "      <th>title</th>\n",
       "      <th>price</th>\n",
       "      <th>location</th>\n",
       "      <th>provider</th>\n",
       "      <th>discount</th>\n",
       "      <th>total_review</th>\n",
       "      <th>url</th>\n",
       "    </tr>\n",
       "  </thead>\n",
       "  <tbody>\n",
       "    <tr>\n",
       "      <th>0</th>\n",
       "      <td>0</td>\n",
       "      <td>UGREEN 40816 TEMPAT EARPHONE STORAGE CASE CHAR...</td>\n",
       "      <td>38900.0</td>\n",
       "      <td>Jakarta Utara</td>\n",
       "      <td>NaN</td>\n",
       "      <td>NaN</td>\n",
       "      <td>67</td>\n",
       "      <td>https://ta.tokopedia.com/promo/v1/clicks/8a-xg...</td>\n",
       "    </tr>\n",
       "    <tr>\n",
       "      <th>1</th>\n",
       "      <td>1</td>\n",
       "      <td>Havit Openbuds 1 Open-Ear Clip Earphones Conne...</td>\n",
       "      <td>351120.0</td>\n",
       "      <td>Jakarta Barat</td>\n",
       "      <td>NaN</td>\n",
       "      <td>57</td>\n",
       "      <td>1</td>\n",
       "      <td>https://ta.tokopedia.com/promo/v1/clicks/8a-xg...</td>\n",
       "    </tr>\n",
       "  </tbody>\n",
       "</table>\n",
       "</div>"
      ],
      "text/plain": [
       "   Unnamed: 0                                              title     price  \\\n",
       "0           0  UGREEN 40816 TEMPAT EARPHONE STORAGE CASE CHAR...   38900.0   \n",
       "1           1  Havit Openbuds 1 Open-Ear Clip Earphones Conne...  351120.0   \n",
       "\n",
       "        location provider discount total_review  \\\n",
       "0  Jakarta Utara      NaN      NaN           67   \n",
       "1  Jakarta Barat      NaN       57            1   \n",
       "\n",
       "                                                 url  \n",
       "0  https://ta.tokopedia.com/promo/v1/clicks/8a-xg...  \n",
       "1  https://ta.tokopedia.com/promo/v1/clicks/8a-xg...  "
      ]
     },
     "execution_count": 19,
     "metadata": {},
     "output_type": "execute_result"
    }
   ],
   "source": [
    "# clean price column\n",
    "df['price'] = df.price.str.replace('[a-z-A-Z|/.]','',regex=True).to_numpy('float')\n",
    "df.head(2)"
   ]
  },
  {
   "cell_type": "code",
   "execution_count": 32,
   "id": "b39c4ee2",
   "metadata": {},
   "outputs": [],
   "source": [
    "# reset index\n",
    "df.reset_index(drop=True)\n",
    "df.drop('Unnamed: 0', axis=1, inplace=True)"
   ]
  },
  {
   "cell_type": "code",
   "execution_count": 36,
   "id": "2ca3bb7f",
   "metadata": {},
   "outputs": [],
   "source": [
    "# fill empty discount with zero\n",
    "df.discount.fillna(0, inplace=True)"
   ]
  },
  {
   "cell_type": "code",
   "execution_count": 39,
   "id": "e0745647",
   "metadata": {},
   "outputs": [],
   "source": [
    "# delete column provider\n",
    "df.drop('provider', axis=1, inplace=True)"
   ]
  },
  {
   "cell_type": "code",
   "execution_count": 40,
   "id": "f6ba5dbc",
   "metadata": {},
   "outputs": [
    {
     "data": {
      "text/html": [
       "<div>\n",
       "<style scoped>\n",
       "    .dataframe tbody tr th:only-of-type {\n",
       "        vertical-align: middle;\n",
       "    }\n",
       "\n",
       "    .dataframe tbody tr th {\n",
       "        vertical-align: top;\n",
       "    }\n",
       "\n",
       "    .dataframe thead th {\n",
       "        text-align: right;\n",
       "    }\n",
       "</style>\n",
       "<table border=\"1\" class=\"dataframe\">\n",
       "  <thead>\n",
       "    <tr style=\"text-align: right;\">\n",
       "      <th></th>\n",
       "      <th>title</th>\n",
       "      <th>price</th>\n",
       "      <th>location</th>\n",
       "      <th>discount</th>\n",
       "      <th>total_review</th>\n",
       "      <th>url</th>\n",
       "    </tr>\n",
       "  </thead>\n",
       "  <tbody>\n",
       "    <tr>\n",
       "      <th>0</th>\n",
       "      <td>UGREEN 40816 TEMPAT EARPHONE STORAGE CASE CHAR...</td>\n",
       "      <td>38900.0</td>\n",
       "      <td>Jakarta Utara</td>\n",
       "      <td>0</td>\n",
       "      <td>67</td>\n",
       "      <td>https://ta.tokopedia.com/promo/v1/clicks/8a-xg...</td>\n",
       "    </tr>\n",
       "    <tr>\n",
       "      <th>1</th>\n",
       "      <td>Havit Openbuds 1 Open-Ear Clip Earphones Conne...</td>\n",
       "      <td>351120.0</td>\n",
       "      <td>Jakarta Barat</td>\n",
       "      <td>57</td>\n",
       "      <td>1</td>\n",
       "      <td>https://ta.tokopedia.com/promo/v1/clicks/8a-xg...</td>\n",
       "    </tr>\n",
       "  </tbody>\n",
       "</table>\n",
       "</div>"
      ],
      "text/plain": [
       "                                               title     price       location  \\\n",
       "0  UGREEN 40816 TEMPAT EARPHONE STORAGE CASE CHAR...   38900.0  Jakarta Utara   \n",
       "1  Havit Openbuds 1 Open-Ear Clip Earphones Conne...  351120.0  Jakarta Barat   \n",
       "\n",
       "  discount total_review                                                url  \n",
       "0        0           67  https://ta.tokopedia.com/promo/v1/clicks/8a-xg...  \n",
       "1       57            1  https://ta.tokopedia.com/promo/v1/clicks/8a-xg...  "
      ]
     },
     "execution_count": 40,
     "metadata": {},
     "output_type": "execute_result"
    }
   ],
   "source": [
    "df.head(2)"
   ]
  },
  {
   "cell_type": "code",
   "execution_count": 43,
   "id": "2135feff",
   "metadata": {},
   "outputs": [
    {
     "data": {
      "text/html": [
       "<div>\n",
       "<style scoped>\n",
       "    .dataframe tbody tr th:only-of-type {\n",
       "        vertical-align: middle;\n",
       "    }\n",
       "\n",
       "    .dataframe tbody tr th {\n",
       "        vertical-align: top;\n",
       "    }\n",
       "\n",
       "    .dataframe thead th {\n",
       "        text-align: right;\n",
       "    }\n",
       "</style>\n",
       "<table border=\"1\" class=\"dataframe\">\n",
       "  <thead>\n",
       "    <tr style=\"text-align: right;\">\n",
       "      <th></th>\n",
       "      <th>title</th>\n",
       "      <th>price</th>\n",
       "      <th>location</th>\n",
       "      <th>discount</th>\n",
       "      <th>total_review</th>\n",
       "      <th>url</th>\n",
       "    </tr>\n",
       "  </thead>\n",
       "  <tbody>\n",
       "    <tr>\n",
       "      <th>0</th>\n",
       "      <td>UGREEN 40816 TEMPAT EARPHONE STORAGE CASE CHAR...</td>\n",
       "      <td>38900.0</td>\n",
       "      <td>Jakarta Utara</td>\n",
       "      <td>0.00</td>\n",
       "      <td>67</td>\n",
       "      <td>https://ta.tokopedia.com/promo/v1/clicks/8a-xg...</td>\n",
       "    </tr>\n",
       "    <tr>\n",
       "      <th>1</th>\n",
       "      <td>Havit Openbuds 1 Open-Ear Clip Earphones Conne...</td>\n",
       "      <td>351120.0</td>\n",
       "      <td>Jakarta Barat</td>\n",
       "      <td>0.57</td>\n",
       "      <td>1</td>\n",
       "      <td>https://ta.tokopedia.com/promo/v1/clicks/8a-xg...</td>\n",
       "    </tr>\n",
       "    <tr>\n",
       "      <th>2</th>\n",
       "      <td>Vention TWS Bluetooth Wireless Headset Earbuds...</td>\n",
       "      <td>155000.0</td>\n",
       "      <td>Jakarta Barat</td>\n",
       "      <td>0.00</td>\n",
       "      <td>49</td>\n",
       "      <td>https://ta.tokopedia.com/promo/v1/clicks/8a-xg...</td>\n",
       "    </tr>\n",
       "  </tbody>\n",
       "</table>\n",
       "</div>"
      ],
      "text/plain": [
       "                                               title     price       location  \\\n",
       "0  UGREEN 40816 TEMPAT EARPHONE STORAGE CASE CHAR...   38900.0  Jakarta Utara   \n",
       "1  Havit Openbuds 1 Open-Ear Clip Earphones Conne...  351120.0  Jakarta Barat   \n",
       "2  Vention TWS Bluetooth Wireless Headset Earbuds...  155000.0  Jakarta Barat   \n",
       "\n",
       "   discount total_review                                                url  \n",
       "0      0.00           67  https://ta.tokopedia.com/promo/v1/clicks/8a-xg...  \n",
       "1      0.57            1  https://ta.tokopedia.com/promo/v1/clicks/8a-xg...  \n",
       "2      0.00           49  https://ta.tokopedia.com/promo/v1/clicks/8a-xg...  "
      ]
     },
     "execution_count": 43,
     "metadata": {},
     "output_type": "execute_result"
    }
   ],
   "source": [
    "# convert discount percentage to decimal value\n",
    "df['discount'] = df.discount.apply(lambda x: int(x)/100)\n",
    "df.head(3)"
   ]
  },
  {
   "cell_type": "code",
   "execution_count": 44,
   "id": "ea70132a",
   "metadata": {},
   "outputs": [],
   "source": [
    "# renaming price to dicounted_price\n",
    "df.rename(columns={'price': 'discounted_price'}, inplace=True)"
   ]
  },
  {
   "cell_type": "code",
   "execution_count": 52,
   "id": "f4d0053d",
   "metadata": {},
   "outputs": [],
   "source": [
    "# add new column price\n",
    "df.insert(1, 'price', (df.discount * df.discounted_price) + df.discounted_price)"
   ]
  },
  {
   "cell_type": "code",
   "execution_count": 77,
   "id": "ff2c9a10",
   "metadata": {},
   "outputs": [
    {
     "data": {
      "text/html": [
       "<div>\n",
       "<style scoped>\n",
       "    .dataframe tbody tr th:only-of-type {\n",
       "        vertical-align: middle;\n",
       "    }\n",
       "\n",
       "    .dataframe tbody tr th {\n",
       "        vertical-align: top;\n",
       "    }\n",
       "\n",
       "    .dataframe thead th {\n",
       "        text-align: right;\n",
       "    }\n",
       "</style>\n",
       "<table border=\"1\" class=\"dataframe\">\n",
       "  <thead>\n",
       "    <tr style=\"text-align: right;\">\n",
       "      <th></th>\n",
       "      <th>title</th>\n",
       "      <th>price</th>\n",
       "      <th>discounted_price</th>\n",
       "      <th>location</th>\n",
       "      <th>discount</th>\n",
       "      <th>total_review</th>\n",
       "      <th>url</th>\n",
       "    </tr>\n",
       "  </thead>\n",
       "  <tbody>\n",
       "    <tr>\n",
       "      <th>0</th>\n",
       "      <td>UGREEN 40816 TEMPAT EARPHONE STORAGE CASE CHAR...</td>\n",
       "      <td>38900.0</td>\n",
       "      <td>38900.0</td>\n",
       "      <td>Jakarta Utara</td>\n",
       "      <td>0.00</td>\n",
       "      <td>67</td>\n",
       "      <td>https://ta.tokopedia.com/promo/v1/clicks/8a-xg...</td>\n",
       "    </tr>\n",
       "    <tr>\n",
       "      <th>1</th>\n",
       "      <td>Havit Openbuds 1 Open-Ear Clip Earphones Conne...</td>\n",
       "      <td>551258.4</td>\n",
       "      <td>351120.0</td>\n",
       "      <td>Jakarta Barat</td>\n",
       "      <td>0.57</td>\n",
       "      <td>1</td>\n",
       "      <td>https://ta.tokopedia.com/promo/v1/clicks/8a-xg...</td>\n",
       "    </tr>\n",
       "    <tr>\n",
       "      <th>2</th>\n",
       "      <td>Vention TWS Bluetooth Wireless Headset Earbuds...</td>\n",
       "      <td>155000.0</td>\n",
       "      <td>155000.0</td>\n",
       "      <td>Jakarta Barat</td>\n",
       "      <td>0.00</td>\n",
       "      <td>49</td>\n",
       "      <td>https://ta.tokopedia.com/promo/v1/clicks/8a-xg...</td>\n",
       "    </tr>\n",
       "    <tr>\n",
       "      <th>3</th>\n",
       "      <td>Bose Ultra Open Earbuds Wireless Charging Case...</td>\n",
       "      <td>830000.0</td>\n",
       "      <td>830000.0</td>\n",
       "      <td>Jakarta Utara</td>\n",
       "      <td>0.00</td>\n",
       "      <td>13</td>\n",
       "      <td>https://ta.tokopedia.com/promo/v1/clicks/8a-xg...</td>\n",
       "    </tr>\n",
       "    <tr>\n",
       "      <th>4</th>\n",
       "      <td>Vention TWS Wireless Bluetooth ENC Earbuds Ear...</td>\n",
       "      <td>98010.0</td>\n",
       "      <td>89100.0</td>\n",
       "      <td>Jakarta Barat</td>\n",
       "      <td>0.10</td>\n",
       "      <td>119</td>\n",
       "      <td>https://ta.tokopedia.com/promo/v1/clicks/8a-xg...</td>\n",
       "    </tr>\n",
       "  </tbody>\n",
       "</table>\n",
       "</div>"
      ],
      "text/plain": [
       "                                               title     price  \\\n",
       "0  UGREEN 40816 TEMPAT EARPHONE STORAGE CASE CHAR...   38900.0   \n",
       "1  Havit Openbuds 1 Open-Ear Clip Earphones Conne...  551258.4   \n",
       "2  Vention TWS Bluetooth Wireless Headset Earbuds...  155000.0   \n",
       "3  Bose Ultra Open Earbuds Wireless Charging Case...  830000.0   \n",
       "4  Vention TWS Wireless Bluetooth ENC Earbuds Ear...   98010.0   \n",
       "\n",
       "   discounted_price       location  discount total_review  \\\n",
       "0           38900.0  Jakarta Utara      0.00           67   \n",
       "1          351120.0  Jakarta Barat      0.57            1   \n",
       "2          155000.0  Jakarta Barat      0.00           49   \n",
       "3          830000.0  Jakarta Utara      0.00           13   \n",
       "4           89100.0  Jakarta Barat      0.10          119   \n",
       "\n",
       "                                                 url  \n",
       "0  https://ta.tokopedia.com/promo/v1/clicks/8a-xg...  \n",
       "1  https://ta.tokopedia.com/promo/v1/clicks/8a-xg...  \n",
       "2  https://ta.tokopedia.com/promo/v1/clicks/8a-xg...  \n",
       "3  https://ta.tokopedia.com/promo/v1/clicks/8a-xg...  \n",
       "4  https://ta.tokopedia.com/promo/v1/clicks/8a-xg...  "
      ]
     },
     "execution_count": 77,
     "metadata": {},
     "output_type": "execute_result"
    }
   ],
   "source": [
    "df.head()"
   ]
  },
  {
   "cell_type": "markdown",
   "id": "81005698",
   "metadata": {},
   "source": [
    "## Find product of Total Review >= 100"
   ]
  },
  {
   "cell_type": "code",
   "execution_count": 89,
   "id": "29114e8f",
   "metadata": {},
   "outputs": [
    {
     "data": {
      "text/plain": [
       "dtype('O')"
      ]
     },
     "execution_count": 89,
     "metadata": {},
     "output_type": "execute_result"
    }
   ],
   "source": [
    "# convert total_review to int\n",
    "df.total_review.dtype"
   ]
  },
  {
   "cell_type": "code",
   "execution_count": 95,
   "id": "dae8326c",
   "metadata": {},
   "outputs": [],
   "source": [
    "# change to pandas series first\n",
    "total_rev = pd.Series(df.total_review)"
   ]
  },
  {
   "cell_type": "code",
   "execution_count": 102,
   "id": "1479e16c",
   "metadata": {},
   "outputs": [
    {
     "data": {
      "text/plain": [
       "Int32Dtype()"
      ]
     },
     "execution_count": 102,
     "metadata": {},
     "output_type": "execute_result"
    }
   ],
   "source": [
    "df['total_review'] = pd.to_numeric(total_rev, errors='coerce').astype('Int32')\n",
    "df.total_review.dtype"
   ]
  },
  {
   "cell_type": "code",
   "execution_count": 109,
   "id": "c7066ed2",
   "metadata": {},
   "outputs": [
    {
     "data": {
      "text/html": [
       "<div>\n",
       "<style scoped>\n",
       "    .dataframe tbody tr th:only-of-type {\n",
       "        vertical-align: middle;\n",
       "    }\n",
       "\n",
       "    .dataframe tbody tr th {\n",
       "        vertical-align: top;\n",
       "    }\n",
       "\n",
       "    .dataframe thead th {\n",
       "        text-align: right;\n",
       "    }\n",
       "</style>\n",
       "<table border=\"1\" class=\"dataframe\">\n",
       "  <thead>\n",
       "    <tr style=\"text-align: right;\">\n",
       "      <th></th>\n",
       "      <th>title</th>\n",
       "      <th>price</th>\n",
       "      <th>discounted_price</th>\n",
       "      <th>location</th>\n",
       "      <th>discount</th>\n",
       "      <th>total_review</th>\n",
       "      <th>url</th>\n",
       "    </tr>\n",
       "  </thead>\n",
       "  <tbody>\n",
       "    <tr>\n",
       "      <th>369</th>\n",
       "      <td>MINISO Earphone Earbud Headphone In-Ear Colorf...</td>\n",
       "      <td>29590.0</td>\n",
       "      <td>26900.0</td>\n",
       "      <td>Bekasi</td>\n",
       "      <td>0.10</td>\n",
       "      <td>19557</td>\n",
       "      <td>https://www.tokopedia.com/miniso-official/mini...</td>\n",
       "    </tr>\n",
       "    <tr>\n",
       "      <th>341</th>\n",
       "      <td>JBL T110 Black In Earphones with microphone</td>\n",
       "      <td>153010.0</td>\n",
       "      <td>107000.0</td>\n",
       "      <td>Tangerang</td>\n",
       "      <td>0.43</td>\n",
       "      <td>14395</td>\n",
       "      <td>https://www.tokopedia.com/jbl-official/jbl-t11...</td>\n",
       "    </tr>\n",
       "    <tr>\n",
       "      <th>868</th>\n",
       "      <td>THINKPLUS SH1 SPORT BLUETOOTH EARPHONE HEADSET...</td>\n",
       "      <td>137330.0</td>\n",
       "      <td>88600.0</td>\n",
       "      <td>Jakarta Utara</td>\n",
       "      <td>0.55</td>\n",
       "      <td>14121</td>\n",
       "      <td>https://www.tokopedia.com/thinkplus/thinkplus-...</td>\n",
       "    </tr>\n",
       "    <tr>\n",
       "      <th>104</th>\n",
       "      <td>Knowledge Zenith KZ EDX Pro Basshead Earphone ...</td>\n",
       "      <td>129314.0</td>\n",
       "      <td>77900.0</td>\n",
       "      <td>Jakarta Barat</td>\n",
       "      <td>0.66</td>\n",
       "      <td>13747</td>\n",
       "      <td>https://www.tokopedia.com/kz-official/knowledg...</td>\n",
       "    </tr>\n",
       "    <tr>\n",
       "      <th>135</th>\n",
       "      <td>COPPER EXTRA BASS Series Earphone/Headset/Hand...</td>\n",
       "      <td>51727.0</td>\n",
       "      <td>29900.0</td>\n",
       "      <td>Jakarta Utara</td>\n",
       "      <td>0.73</td>\n",
       "      <td>13372</td>\n",
       "      <td>https://www.tokopedia.com/copperindonesia/copp...</td>\n",
       "    </tr>\n",
       "  </tbody>\n",
       "</table>\n",
       "</div>"
      ],
      "text/plain": [
       "                                                 title     price  \\\n",
       "369  MINISO Earphone Earbud Headphone In-Ear Colorf...   29590.0   \n",
       "341        JBL T110 Black In Earphones with microphone  153010.0   \n",
       "868  THINKPLUS SH1 SPORT BLUETOOTH EARPHONE HEADSET...  137330.0   \n",
       "104  Knowledge Zenith KZ EDX Pro Basshead Earphone ...  129314.0   \n",
       "135  COPPER EXTRA BASS Series Earphone/Headset/Hand...   51727.0   \n",
       "\n",
       "     discounted_price       location  discount  total_review  \\\n",
       "369           26900.0         Bekasi      0.10         19557   \n",
       "341          107000.0      Tangerang      0.43         14395   \n",
       "868           88600.0  Jakarta Utara      0.55         14121   \n",
       "104           77900.0  Jakarta Barat      0.66         13747   \n",
       "135           29900.0  Jakarta Utara      0.73         13372   \n",
       "\n",
       "                                                   url  \n",
       "369  https://www.tokopedia.com/miniso-official/mini...  \n",
       "341  https://www.tokopedia.com/jbl-official/jbl-t11...  \n",
       "868  https://www.tokopedia.com/thinkplus/thinkplus-...  \n",
       "104  https://www.tokopedia.com/kz-official/knowledg...  \n",
       "135  https://www.tokopedia.com/copperindonesia/copp...  "
      ]
     },
     "execution_count": 109,
     "metadata": {},
     "output_type": "execute_result"
    }
   ],
   "source": [
    "# find all products with review more than 100\n",
    "good_review = df[df.total_review > 100].sort_values(by='total_review', ascending=False)\n",
    "good_review.head()"
   ]
  },
  {
   "cell_type": "code",
   "execution_count": 120,
   "id": "6d67c412",
   "metadata": {},
   "outputs": [
    {
     "data": {
      "text/plain": [
       "title               MINISO Earphone Earbud Headphone In-Ear Colorf...\n",
       "price                                                         29590.0\n",
       "discounted_price                                              26900.0\n",
       "location                                                       Bekasi\n",
       "discount                                                          0.1\n",
       "total_review                                                    19557\n",
       "url                 https://www.tokopedia.com/miniso-official/mini...\n",
       "Name: 369, dtype: object"
      ]
     },
     "execution_count": 120,
     "metadata": {},
     "output_type": "execute_result"
    }
   ],
   "source": [
    "# take one example detail of highest review\n",
    "idx_good_rev = good_review.total_review.idxmax()\n",
    "df.loc[idx_good_rev]"
   ]
  },
  {
   "cell_type": "code",
   "execution_count": 226,
   "id": "a0251ad0",
   "metadata": {},
   "outputs": [
    {
     "data": {
      "text/html": [
       "<div>\n",
       "<style scoped>\n",
       "    .dataframe tbody tr th:only-of-type {\n",
       "        vertical-align: middle;\n",
       "    }\n",
       "\n",
       "    .dataframe tbody tr th {\n",
       "        vertical-align: top;\n",
       "    }\n",
       "\n",
       "    .dataframe thead th {\n",
       "        text-align: right;\n",
       "    }\n",
       "</style>\n",
       "<table border=\"1\" class=\"dataframe\">\n",
       "  <thead>\n",
       "    <tr style=\"text-align: right;\">\n",
       "      <th></th>\n",
       "      <th>title</th>\n",
       "      <th>price</th>\n",
       "      <th>discounted_price</th>\n",
       "      <th>location</th>\n",
       "      <th>discount</th>\n",
       "      <th>total_review</th>\n",
       "      <th>url</th>\n",
       "    </tr>\n",
       "  </thead>\n",
       "  <tbody>\n",
       "    <tr>\n",
       "      <th>146</th>\n",
       "      <td>Headset Bluetooth Jete Open Ear 2 Bone Conduct...</td>\n",
       "      <td>1,249,353</td>\n",
       "      <td>849,900</td>\n",
       "      <td>Jakarta Pusat</td>\n",
       "      <td>0</td>\n",
       "      <td>1280</td>\n",
       "      <td>https://ta.tokopedia.com/promo/v1/clicks/8a-xg...</td>\n",
       "    </tr>\n",
       "    <tr>\n",
       "      <th>640</th>\n",
       "      <td>Headset Bluetooth Jete Open Ear 2 Bone Conduct...</td>\n",
       "      <td>1,249,353</td>\n",
       "      <td>849,900</td>\n",
       "      <td>Surabaya</td>\n",
       "      <td>0</td>\n",
       "      <td>1280</td>\n",
       "      <td>https://www.tokopedia.com/gojeteindonesia/head...</td>\n",
       "    </tr>\n",
       "    <tr>\n",
       "      <th>70</th>\n",
       "      <td>Sony WF 1000XM5 WF1000XM5 WF-1000XM5 Noise Can...</td>\n",
       "      <td>3,899,000</td>\n",
       "      <td>3,899,000</td>\n",
       "      <td>Jakarta Utara</td>\n",
       "      <td>0</td>\n",
       "      <td>1212</td>\n",
       "      <td>https://ta.tokopedia.com/promo/v1/clicks/8a-xg...</td>\n",
       "    </tr>\n",
       "    <tr>\n",
       "      <th>287</th>\n",
       "      <td>Sony WF 1000XM5 WF1000XM5 WF-1000XM5 Noise Can...</td>\n",
       "      <td>3,899,000</td>\n",
       "      <td>3,899,000</td>\n",
       "      <td>Jakarta Utara</td>\n",
       "      <td>0</td>\n",
       "      <td>1212</td>\n",
       "      <td>https://www.tokopedia.com/itoms/sony-wf-1000xm...</td>\n",
       "    </tr>\n",
       "    <tr>\n",
       "      <th>872</th>\n",
       "      <td>HUAWEI FreeClip Open-Ear TWS Earphone | C-Brid...</td>\n",
       "      <td>2,900,430</td>\n",
       "      <td>2,479,000</td>\n",
       "      <td>Tangerang</td>\n",
       "      <td>0</td>\n",
       "      <td>846</td>\n",
       "      <td>https://www.tokopedia.com/huawei/huawei-freecl...</td>\n",
       "    </tr>\n",
       "  </tbody>\n",
       "</table>\n",
       "</div>"
      ],
      "text/plain": [
       "                                                 title     price  \\\n",
       "146  Headset Bluetooth Jete Open Ear 2 Bone Conduct... 1,249,353   \n",
       "640  Headset Bluetooth Jete Open Ear 2 Bone Conduct... 1,249,353   \n",
       "70   Sony WF 1000XM5 WF1000XM5 WF-1000XM5 Noise Can... 3,899,000   \n",
       "287  Sony WF 1000XM5 WF1000XM5 WF-1000XM5 Noise Can... 3,899,000   \n",
       "872  HUAWEI FreeClip Open-Ear TWS Earphone | C-Brid... 2,900,430   \n",
       "\n",
       "     discounted_price       location  discount  total_review  \\\n",
       "146           849,900  Jakarta Pusat         0          1280   \n",
       "640           849,900       Surabaya         0          1280   \n",
       "70          3,899,000  Jakarta Utara         0          1212   \n",
       "287         3,899,000  Jakarta Utara         0          1212   \n",
       "872         2,479,000      Tangerang         0           846   \n",
       "\n",
       "                                                   url  \n",
       "146  https://ta.tokopedia.com/promo/v1/clicks/8a-xg...  \n",
       "640  https://www.tokopedia.com/gojeteindonesia/head...  \n",
       "70   https://ta.tokopedia.com/promo/v1/clicks/8a-xg...  \n",
       "287  https://www.tokopedia.com/itoms/sony-wf-1000xm...  \n",
       "872  https://www.tokopedia.com/huawei/huawei-freecl...  "
      ]
     },
     "execution_count": 226,
     "metadata": {},
     "output_type": "execute_result"
    }
   ],
   "source": [
    "# display product with good review and price aboove five hundred thousand rupiah\n",
    "good_review[good_review.discounted_price > 500000].sort_values(by='total_review', ascending=False).head()"
   ]
  },
  {
   "cell_type": "markdown",
   "id": "4b19b939",
   "metadata": {},
   "source": [
    "## show chat bar\n",
    "Display what product has good review and price under 500,000"
   ]
  },
  {
   "cell_type": "code",
   "execution_count": 217,
   "id": "0cefc155",
   "metadata": {},
   "outputs": [],
   "source": [
    "new_df = good_review.groupby('title').mean(numeric_only=True)\n",
    "new_df = new_df[(new_df.discounted_price < 500000) & (new_df.total_review > 1000)]"
   ]
  },
  {
   "cell_type": "code",
   "execution_count": 206,
   "id": "60784fdd",
   "metadata": {},
   "outputs": [],
   "source": [
    "# a bit hard to see those numbers, let's display it as float with min 2 decimal\n",
    "pd.options.display.float_format = '{:,.0f}'.format"
   ]
  },
  {
   "cell_type": "code",
   "execution_count": 224,
   "id": "2bc45f90",
   "metadata": {},
   "outputs": [
    {
     "data": {
      "text/plain": [
       "(176, 4)"
      ]
     },
     "execution_count": 224,
     "metadata": {},
     "output_type": "execute_result"
    }
   ],
   "source": [
    "new_df.shape"
   ]
  },
  {
   "cell_type": "code",
   "execution_count": 231,
   "id": "10f15e5a",
   "metadata": {},
   "outputs": [
    {
     "data": {
      "text/html": [
       "<div>\n",
       "<style scoped>\n",
       "    .dataframe tbody tr th:only-of-type {\n",
       "        vertical-align: middle;\n",
       "    }\n",
       "\n",
       "    .dataframe tbody tr th {\n",
       "        vertical-align: top;\n",
       "    }\n",
       "\n",
       "    .dataframe thead th {\n",
       "        text-align: right;\n",
       "    }\n",
       "</style>\n",
       "<table border=\"1\" class=\"dataframe\">\n",
       "  <thead>\n",
       "    <tr style=\"text-align: right;\">\n",
       "      <th></th>\n",
       "      <th>price</th>\n",
       "      <th>discounted_price</th>\n",
       "      <th>discount</th>\n",
       "      <th>total_review</th>\n",
       "    </tr>\n",
       "    <tr>\n",
       "      <th>title</th>\n",
       "      <th></th>\n",
       "      <th></th>\n",
       "      <th></th>\n",
       "      <th></th>\n",
       "    </tr>\n",
       "  </thead>\n",
       "  <tbody>\n",
       "    <tr>\n",
       "      <th>Knowledge Zenith KZ ZS10 Pro - In Ear Earphone - Hybrid 5 Driver</th>\n",
       "      <td>613,770</td>\n",
       "      <td>499,000</td>\n",
       "      <td>0</td>\n",
       "      <td>1,550</td>\n",
       "    </tr>\n",
       "    <tr>\n",
       "      <th>MOONDROP CHU II / CHU 2 Dynamic Driver In-Ear Monitor Earphone iem</th>\n",
       "      <td>395,000</td>\n",
       "      <td>395,000</td>\n",
       "      <td>0</td>\n",
       "      <td>1,007</td>\n",
       "    </tr>\n",
       "    <tr>\n",
       "      <th>SONY WI-C100 Black Wireless In-ear Sport Earphone / WIC100 / WI C100</th>\n",
       "      <td>426,420</td>\n",
       "      <td>309,000</td>\n",
       "      <td>0</td>\n",
       "      <td>1,942</td>\n",
       "    </tr>\n",
       "    <tr>\n",
       "      <th>Samsung AKG Type-C Earphones Original USB-C S21 Ultra S20 Note 20 10</th>\n",
       "      <td>325,500</td>\n",
       "      <td>310,000</td>\n",
       "      <td>0</td>\n",
       "      <td>1,314</td>\n",
       "    </tr>\n",
       "  </tbody>\n",
       "</table>\n",
       "</div>"
      ],
      "text/plain": [
       "                                                     price  discounted_price  \\\n",
       "title                                                                          \n",
       "Knowledge Zenith KZ ZS10 Pro - In Ear Earphone ... 613,770           499,000   \n",
       "MOONDROP CHU II / CHU 2 Dynamic Driver In-Ear M... 395,000           395,000   \n",
       "SONY WI-C100 Black Wireless In-ear Sport Earpho... 426,420           309,000   \n",
       "Samsung AKG Type-C Earphones Original USB-C S21... 325,500           310,000   \n",
       "\n",
       "                                                    discount  total_review  \n",
       "title                                                                       \n",
       "Knowledge Zenith KZ ZS10 Pro - In Ear Earphone ...         0         1,550  \n",
       "MOONDROP CHU II / CHU 2 Dynamic Driver In-Ear M...         0         1,007  \n",
       "SONY WI-C100 Black Wireless In-ear Sport Earpho...         0         1,942  \n",
       "Samsung AKG Type-C Earphones Original USB-C S21...         0         1,314  "
      ]
     },
     "execution_count": 231,
     "metadata": {},
     "output_type": "execute_result"
    }
   ],
   "source": [
    "# we set graph bar for product that has reviews above 1000 and price above 300.000 but below 500.000\n",
    "new_df = new_df[new_df.discounted_price > 300000]\n",
    "new_df"
   ]
  },
  {
   "cell_type": "code",
   "execution_count": 236,
   "id": "1fb3f1a1",
   "metadata": {},
   "outputs": [
    {
     "data": {
      "image/png": "[encoded data removed]",
      "text/plain": [
       "<Figure size 640x480 with 1 Axes>"
      ]
     },
     "metadata": {},
     "output_type": "display_data"
    }
   ],
   "source": [
    "new_df.plot.bar(x='discounted_price');"
   ]
  },
  {
   "cell_type": "code",
   "execution_count": null,
   "id": "74dac93d",
   "metadata": {},
   "outputs": [],
   "source": []
  }
 ],
 "metadata": {
  "kernelspec": {
   "display_name": "Python 3 (ipykernel)",
   "language": "python",
   "name": "python3"
  },
  "language_info": {
   "codemirror_mode": {
    "name": "ipython",
    "version": 3
   },
   "file_extension": ".py",
   "mimetype": "text/x-python",
   "name": "python",
   "nbconvert_exporter": "python",
   "pygments_lexer": "ipython3",
   "version": "3.12.5"
  }
 },
 "nbformat": 4,
 "nbformat_minor": 5
}
